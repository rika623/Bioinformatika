{
  "nbformat": 4,
  "nbformat_minor": 0,
  "metadata": {
    "colab": {
      "provenance": []
    },
    "kernelspec": {
      "name": "python3",
      "display_name": "Python 3"
    },
    "language_info": {
      "name": "python"
    }
  },
  "cells": [
    {
      "cell_type": "markdown",
      "source": [
        "Nama : Rika Ajeng Finatih\n",
        "\n",
        "NIM : 121450036\n",
        "\n",
        "Kelas : Bioinformatika RB"
      ],
      "metadata": {
        "id": "gjDHv9Mtir-y"
      }
    },
    {
      "cell_type": "markdown",
      "source": [
        "## **LATIHAN**"
      ],
      "metadata": {
        "id": "f6v-f3myikmo"
      }
    },
    {
      "cell_type": "markdown",
      "source": [
        "1. Silahkan buat analisis sekuen dengan ID: NC_045512:\n",
        "\n",
        "    a. Temukan Key dan Value dari ID tersebut\n",
        "\n",
        "    b. Jelaskan informasi terkait sekuen dengan ID tersebut\n",
        "\n",
        "2. Downloadlah dataset variant dari covid-19 informasi ada disini https://en.wikipedia.org/wiki/Variants_of_SARS-CoV-2:\n",
        "\n",
        "    a. Downloadlah menggunakan file referensi dengan format .txt\n",
        "\n",
        "    b. Gunakan fungsi untuk melakukan merger file dengan format **(fasta dan ganbank)**\n",
        "\n",
        "\n",
        "3. Tugas dikumpulkan dalam format nim_nama.ipynb (untuk kodingan) dan nim_nama.fasta & nim_nama.gb pada GCR sebelum 1 Oktober 2024, pukul 14.30"
      ],
      "metadata": {
        "id": "DUcRAo6oioEi"
      }
    },
    {
      "cell_type": "markdown",
      "source": [
        "## **Nomor 1**"
      ],
      "metadata": {
        "id": "4P6bOuTHiz_2"
      }
    },
    {
      "cell_type": "markdown",
      "source": [
        "Sekuen `NC_045512` merupakan salah satu sekuen genom dari virus SARS-CoV-2 (COVID 19) yang berisi referensi genom virus yang digunakan dalam berbagai studi tentang virus tersebut. Biasanya file sekuen ini dalam format GenBank atau FASTA yang berisi informasi seperti kode DNA/RNA, gen, protein, dan anotasi terkait.\n",
        "\n",
        "Link untuk mengunduh: [NCBI - Sekuen NC_045512](https://www.ncbi.nlm.nih.gov/nuccore/NC_045512)"
      ],
      "metadata": {
        "id": "k5Y9it8HjHF0"
      }
    },
    {
      "cell_type": "code",
      "execution_count": null,
      "metadata": {
        "colab": {
          "base_uri": "https://localhost:8080/"
        },
        "id": "ivLQmmmCifUh",
        "outputId": "3c61a722-48b6-453f-f6fd-d85ab6412ab5"
      },
      "outputs": [
        {
          "output_type": "stream",
          "name": "stdout",
          "text": [
            "Requirement already satisfied: biopython in /usr/local/lib/python3.10/dist-packages (1.84)\n",
            "Requirement already satisfied: numpy in /usr/local/lib/python3.10/dist-packages (from biopython) (1.26.4)\n"
          ]
        }
      ],
      "source": [
        "# Install Biopython\n",
        "!pip install biopython"
      ]
    },
    {
      "cell_type": "code",
      "source": [
        "from Bio import SeqIO  # Mengimpor library Biopython untuk membaca file sekuen\n",
        "\n",
        "# Menentukan jalur file GenBank yang berisi sekuen NC_045512 (file ini harus sudah diunduh dari NCBI)\n",
        "file_path = \"/content/121450036_Rika Ajeng Finatih.gb\"\n",
        "\n",
        "# Membuka file GenBank dan membaca sekuen\n",
        "with open(file_path, \"r\") as file:\n",
        "    record = SeqIO.read(file, \"genbank\")  # Membaca file GenBank\n",
        "\n",
        "# Menampilkan ID sekuen\n",
        "print(f\"ID: {record.id}\")\n",
        "\n",
        "# Menampilkan deskripsi dari sekuen\n",
        "print(f\"Deskripsi: {record.description}\")\n",
        "\n",
        "# Menampilkan panjang sekuen dalam satuan basa (nukleotida)\n",
        "print(f\"Panjang Sekuen: {len(record.seq)} basa\")\n",
        "\n",
        "# Menampilkan 100 huruf pertama dari sekuen sebagai contoh\n",
        "print(f\"Contoh Sekuen: {record.seq[:100]}\")\n",
        "\n",
        "# Menampilkan anotasi (informasi tambahan tentang sekuen)\n",
        "print(\"Anotasi: \", record.annotations)\n",
        "\n",
        "# Mendapatkan fitur gen dari sekuen yang ada (fitur gen mencakup gen yang ditemukan di sekuen)\n",
        "gene_features = [feature for feature in record.features if feature.type == \"gene\"]"
      ],
      "metadata": {
        "colab": {
          "base_uri": "https://localhost:8080/"
        },
        "id": "hY7F92_alZBF",
        "outputId": "83a5948d-c1bd-4cea-86b5-44382dfe26ee"
      },
      "execution_count": null,
      "outputs": [
        {
          "output_type": "stream",
          "name": "stdout",
          "text": [
            "ID: NC_045512.2\n",
            "Deskripsi: Severe acute respiratory syndrome coronavirus 2 isolate Wuhan-Hu-1, complete genome\n",
            "Panjang Sekuen: 29903 basa\n",
            "Contoh Sekuen: ATTAAAGGTTTATACCTTCCCAGGTAACAAACCAACCAACTTTCGATCTCTTGTAGATCTGTTCTCTAAACGAACTTTAAAATCTGTGTGGCTGTCACTC\n",
            "Anotasi:  {'molecule_type': 'ss-RNA', 'topology': 'linear', 'data_file_division': 'VRL', 'date': '18-JUL-2020', 'accessions': ['NC_045512'], 'sequence_version': 2, 'gi': '1798174254', 'keywords': ['RefSeq'], 'source': 'Severe acute respiratory syndrome coronavirus 2 (SARS-CoV-2)', 'organism': 'Severe acute respiratory syndrome coronavirus 2', 'taxonomy': ['Viruses', 'Riboviria', 'Orthornavirae', 'Pisuviricota', 'Pisoniviricetes', 'Nidovirales', 'Cornidovirineae', 'Coronaviridae', 'Orthocoronavirinae', 'Betacoronavirus', 'Sarbecovirus', 'Severe acute respiratory syndrome-related coronavirus'], 'references': [Reference(title='A new coronavirus associated with human respiratory disease in China', ...), Reference(title='Programmed ribosomal frameshifting in decoding the SARS-CoV genome', ...), Reference(title='The structure of a rigorously conserved RNA element within the SARS virus genome', ...), Reference(title=\"A phylogenetically conserved hairpin-type 3' untranslated region pseudoknot functions in coronavirus RNA replication\", ...), Reference(title='Direct Submission', ...), Reference(title='Direct Submission', ...)], 'comment': \"REVIEWED REFSEQ: This record has been curated by NCBI staff. The\\nreference sequence is identical to MN908947.\\nOn Jan 17, 2020 this sequence version replaced NC_045512.1.\\nAnnotation was added using homology to SARSr-CoV NC_004718.3. ###\\nFormerly called 'Wuhan seafood market pneumonia virus.' If you have\\nquestions or suggestions, please email us at info@ncbi.nlm.nih.gov\\nand include the accession number NC_045512.### Protein structures\\ncan be found at\\nhttps://www.ncbi.nlm.nih.gov/structure/?term=sars-cov-2.### Find\\nall other Severe acute respiratory syndrome coronavirus 2\\n(SARS-CoV-2) sequences at\\nhttps://www.ncbi.nlm.nih.gov/genbank/sars-cov-2-seqs/\\nCOMPLETENESS: full length.\", 'structured_comment': defaultdict(<class 'dict'>, {'Assembly-Data': {'Assembly Method': 'Megahit v. V1.1.3', 'Sequencing Technology': 'Illumina'}})}\n"
          ]
        }
      ]
    },
    {
      "cell_type": "markdown",
      "source": [
        "Sekuen NC_045512.2 adalah sekuen genom lengkap dari virus *Severe Acute Respiratory Syndrome Coronavirus 2 (SARS-CoV-2)*, yang pertama kali diisolasi dari pasien di Wuhan, Tiongkok, dan dikenal sebagai penyebab penyakit COVID-19. Sekuen ini memiliki panjang 29.903 basa nukleotida, yang mencakup seluruh informasi genetik yang diperlukan bagi virus untuk bereplikasi di dalam sel inangnya. Sekuen ini termasuk dalam kelompok virus RNA untai tunggal (ss-RNA), yang berarti bahwa genomnya berfungsi langsung sebagai template untuk sintesis protein virus. Dengan tipe topologi linear, genom ini dibedakan dari beberapa jenis virus lain yang memiliki genom melingkar. Kode akses NC_045512 mengidentifikasi versi sekuen ini dalam sistem NCBI RefSeq, sebuah database referensi yang dikurasi dan dianggap sebagai acuan. Versi sekuen ini telah diperbarui pada 18 Juli 2020, yang merupakan versi kedua setelah revisi sebelumnya.\n",
        "\n",
        "Dari segi klasifikasi taksonomi, SARS-CoV-2 berada dalam ordo Nidovirales dan termasuk dalam famili Coronaviridae serta genus Betacoronavirus, yang juga mencakup virus SARS pertama. Anotasi taksonomi ini menempatkan virus ini dalam konteks evolusioner bersama virus-virus RNA lain. Beberapa referensi penelitian menyertai sekuen ini, di antaranya publikasi yang menggambarkan penemuan awal virus di Wuhan serta beberapa penelitian lain yang fokus pada mekanisme translasi dan replikasi RNA virus. Informasi tambahan terkait perakitan genom menunjukkan bahwa metode Megahit dengan teknologi Illumina digunakan untuk melakukan sekuensing pada genom ini."
      ],
      "metadata": {
        "id": "fhbSXdIYsaaU"
      }
    },
    {
      "cell_type": "code",
      "source": [
        "# Menampilkan jumlah fitur gen yang ditemukan\n",
        "print(f\"Jumlah Fitur Gen: {len(gene_features)}\")\n",
        "\n",
        "# Menampilkan informasi tentang gen pertama yang ada dalam sekuen\n",
        "if len(gene_features) > 0:  # Memastikan ada gen yang ditemukan\n",
        "    first_gene = gene_features[0]\n",
        "    print(f\"Lokasi Gen Pertama: {first_gene.location}\")  # Menampilkan lokasi gen dalam sekuen\n",
        "    print(f\"Kualifikasi Gen Pertama: {first_gene.qualifiers}\")  # Menampilkan kualifikasi (metadata) tentang gen pertama\n",
        "else:\n",
        "    print(\"Tidak ada fitur gen yang ditemukan.\")\n"
      ],
      "metadata": {
        "colab": {
          "base_uri": "https://localhost:8080/"
        },
        "id": "fBQluROElvKt",
        "outputId": "6a636b1d-a187-482f-f742-c13c66e05930"
      },
      "execution_count": null,
      "outputs": [
        {
          "output_type": "stream",
          "name": "stdout",
          "text": [
            "Jumlah Fitur Gen: 11\n",
            "Lokasi Gen Pertama: [265:21555](+)\n",
            "Kualifikasi Gen Pertama: {'gene': ['ORF1ab'], 'locus_tag': ['GU280_gp01'], 'db_xref': ['GeneID:43740578']}\n"
          ]
        }
      ]
    },
    {
      "cell_type": "markdown",
      "source": [
        "Genom SARS-CoV-2 terdiri dari beberapa fitur genetik yang berperan penting dalam fungsionalitas dan replikasi virus. Dalam kasus ini, terdapat 11 fitur gen yang telah diidentifikasi. Gen pertama terletak pada posisi [265:21555] dalam urutan genom, yang menunjukkan bahwa gen ini membentang dari nukleotida ke-265 hingga nukleotida ke-21.555 pada untai positif (+). Gen ini dikenal sebagai ORF1ab (Open Reading Frame 1ab), yang merupakan gen terbesar dan salah satu yang paling penting pada genom virus SARS-CoV-2.\n",
        "\n",
        "Gen ORF1ab bertanggung jawab untuk menghasilkan protein non-struktural melalui mekanisme yang dikenal sebagai pemrosesan proteolitik. Protein non-struktural yang dihasilkan oleh gen ini terlibat dalam replikasi dan transkripsi RNA virus. Salah satu fungsi utamanya adalah sebagai bagian dari kompleks replikasi-transkripsi virus, yang penting dalam siklus hidup SARS-CoV-2.\n",
        "\n",
        "Dalam anotasi ini, gen ORF1ab juga dikaitkan dengan locus_tag yang diberi kode GU280_gp01 serta referensi database eksternal GeneID:43740578. Ini berarti bahwa gen tersebut telah diidentifikasi dan didokumentasikan di berbagai basis data genomik, termasuk di database NCBI Gene, yang menyediakan informasi tambahan mengenai fungsi biologis gen tersebut.\n",
        "\n",
        "Secara keseluruhan, informasi ini memberikan gambaran mendetail tentang gen pertama pada genom SARS-CoV-2 dan peran pentingnya dalam replikasi virus serta keterkaitannya dengan referensi eksternal dalam penelitian ilmiah lebih lanjut.\n",
        "\n",
        "\n",
        "\n",
        "\n",
        "\n",
        "\n"
      ],
      "metadata": {
        "id": "uofKDpZ1v38h"
      }
    },
    {
      "cell_type": "markdown",
      "source": [
        "## **Nomor 2**"
      ],
      "metadata": {
        "id": "7E04CM98oTZN"
      }
    },
    {
      "cell_type": "markdown",
      "source": [
        "Akses halaman Wikipedia tentang varian COVID-19: [Variants_of_SARS-CoV-2](https://en.wikipedia.org/wiki/Variants_of_SARS-CoV-2)"
      ],
      "metadata": {
        "id": "ALA7j8IyoXxg"
      }
    },
    {
      "cell_type": "code",
      "source": [
        "import requests\n",
        "\n",
        "def unduh_sekuens_batch(urls, ukuran_batch=200):\n",
        "    \"\"\"Fungsi untuk mengunduh sekuens dalam batch.\"\"\"\n",
        "    for i in range(0, len(urls), ukuran_batch):\n",
        "        batch_urls = urls[i:i + ukuran_batch]\n",
        "        for idx, url in enumerate(batch_urls, start=i):\n",
        "            response = requests.get(url)\n",
        "\n",
        "            if response.status_code == 200:\n",
        "                # Mengubah ekstensi file menjadi .fasta\n",
        "                nama_file = f\"sekuens_batch_{idx}.fasta\"\n",
        "                with open(nama_file, \"wb\") as f:\n",
        "                    f.write(response.content)\n",
        "                print(f\"Berhasil mengunduh sekuens {idx + 1} dari {url}\")\n",
        "            else:\n",
        "                print(f\"Gagal mengunduh sekuens {idx + 1} dari {url}\")\n",
        "\n",
        "# Contoh penggunaan dengan daftar URL\n",
        "urls = [\"https://www.google.com/url?q=https%3A%2F%2Fen.wikipedia.org%2Fwiki%2FVariants_of_SARS-CoV-2\"]\n",
        "\n",
        "unduh_sekuens_batch(urls, ukuran_batch=200)\n"
      ],
      "metadata": {
        "colab": {
          "base_uri": "https://localhost:8080/"
        },
        "id": "N6JL-JwLEghu",
        "outputId": "8ec68327-bca2-489a-8f61-55bc3f078542"
      },
      "execution_count": null,
      "outputs": [
        {
          "output_type": "stream",
          "name": "stdout",
          "text": [
            "Berhasil mengunduh sekuens 1 dari https://www.google.com/url?q=https%3A%2F%2Fen.wikipedia.org%2Fwiki%2FVariants_of_SARS-CoV-2\n"
          ]
        }
      ]
    },
    {
      "cell_type": "code",
      "source": [
        "from Bio import SeqIO\n",
        "\n",
        "# Fungsi untuk membaca sekuens dari file FASTA\n",
        "def baca_fasta(jalur_file):\n",
        "    sekuens = list(SeqIO.parse(jalur_file, \"fasta\"))\n",
        "    print(f\"Ditemukan {len(sekuens)} sekuens dalam {jalur_file}\")\n",
        "\n",
        "    for seq_record in sekuens[:5]:  # Tampilkan 5 sekuens pertama\n",
        "        print(f\"ID: {seq_record.id}\")\n",
        "        print(f\"Sekuen: {seq_record.seq[:100]}...\")  # Tampilkan 100 basis pertama\n",
        "\n",
        "    return sekuens\n",
        "\n",
        "# Contoh penggunaan\n",
        "fasta_sequences = baca_fasta(\"sequences_batch_200.fasta\")\n"
      ],
      "metadata": {
        "colab": {
          "base_uri": "https://localhost:8080/"
        },
        "id": "49cghwk-EnBF",
        "outputId": "85fb8c1f-8709-4d71-e78c-32e88853b524"
      },
      "execution_count": null,
      "outputs": [
        {
          "output_type": "stream",
          "name": "stdout",
          "text": [
            "Ditemukan 200 sekuens dalam sequences_batch_200.fasta\n",
            "ID: PQ393194.1\n",
            "Sekuen: AAAATCTGTGTGGCTGTCACTCGGCTGCATGCTTAGTGCACTCACGCAGTATAATTAATAACTAATTACTGTCGTTGACAGGACACGAGTAACTCGTCTA...\n",
            "ID: PQ393193.1\n",
            "Sekuen: GCTGTCACTCGGCTGCATGCTTAGTGCACTCACGCAGTATAATTAATAACTAATTACTGTCGTTGACAGGACACGAGTAACTCGTCTATCTTCTGCAGGC...\n",
            "ID: PQ393192.1\n",
            "Sekuen: AAAATCTGTGTGGCTGTCACTCGGCTGCATGCTTAGTGCACTCACGCAGTATAATTAATAACTAATTACTGTCGTTGACAGGACACGAGTAACTCGTCTA...\n",
            "ID: PQ393191.1\n",
            "Sekuen: TCGTTGACAGGACACGAGTAACTCGTCTATCTTCTGCAGGCTGCTTACGGTTTCGTCCGTGTTGCAGCCGATCATCAGCACATCTAGGTTTTGTCCGGGT...\n",
            "ID: PQ393190.1\n",
            "Sekuen: AAAATCTGTGTGGCTGTCACTCGGCTGCATGCTTAGTGCACTCACGCAGTATAATTAATAACTAATTACTGTCGTTGACAGGACACGAGTAACTCGTCTA...\n"
          ]
        }
      ]
    },
    {
      "cell_type": "code",
      "source": [
        "from Bio import SeqIO\n",
        "\n",
        "# Daftar file FASTA yang ingin digabungkan\n",
        "daftar_fasta = [\"sequences_batch_0.fasta\", \"sequences_batch_200.fasta\",\n",
        "                \"sequences_batch_400.fasta\", \"sequences_batch_600.fasta\",\n",
        "                \"sequences_batch_800.fasta\"]\n",
        "\n",
        "# Nama file output\n",
        "file_output = \"121450036_Rika Ajeng Finatih.fasta\"\n",
        "\n",
        "# Membuka file output untuk ditulis\n",
        "with open(file_output, \"w\") as outfile:\n",
        "    for file_fasta in daftar_fasta:\n",
        "        # Memparse setiap file FASTA input\n",
        "        with open(file_fasta, \"r\") as infile:\n",
        "            # Menggunakan SeqIO.parse untuk membaca sekuens dan menuliskannya ke file output\n",
        "            for record in SeqIO.parse(infile, \"fasta\"):\n",
        "                SeqIO.write(record, outfile, \"fasta\")\n",
        "\n",
        "print(f\"Sekuen dari {len(daftar_fasta)} file telah digabungkan ke dalam {file_output}\")\n"
      ],
      "metadata": {
        "colab": {
          "base_uri": "https://localhost:8080/"
        },
        "id": "8KH0raBOE0a3",
        "outputId": "dd991124-320c-4805-d5b1-3b02e6bb0fff"
      },
      "execution_count": null,
      "outputs": [
        {
          "output_type": "stream",
          "name": "stdout",
          "text": [
            "Sekuen dari 5 file telah digabungkan ke dalam 121450036_Rika Ajeng Finatih.fasta\n"
          ]
        }
      ]
    },
    {
      "cell_type": "code",
      "source": [
        "from Bio import SeqIO\n",
        "\n",
        "def fasta_ke_genbank(file_fasta_input, file_genbank_output, molecule_type=\"DNA\"):\n",
        "    try:\n",
        "        # Membaca file FASTA\n",
        "        rekaman = list(SeqIO.parse(file_fasta_input, \"fasta\"))\n",
        "\n",
        "        # Membuat daftar baru dari rekaman dengan format GenBank\n",
        "        rekaman_genbank = [SeqIO.SeqRecord(\n",
        "            seq=rekaman.seq,\n",
        "            id=rekaman.id,\n",
        "            name=rekaman.name,\n",
        "            description=rekaman.description,\n",
        "            annotations={\"molecule_type\": molecule_type}  # Menambahkan tipe molekul\n",
        "        ) for rekaman in rekaman]\n",
        "\n",
        "        # Menulis rekaman GenBank ke file output\n",
        "        SeqIO.write(rekaman_genbank, file_genbank_output, \"genbank\")\n",
        "\n",
        "        print(f\"Berhasil mengonversi {file_fasta_input} menjadi {file_genbank_output}\")\n",
        "    except FileNotFoundError:\n",
        "        print(f\"Error: File tidak ditemukan - {file_fasta_input}\")\n",
        "    except Exception as e:\n",
        "        print(f\"Terjadi kesalahan: {e}\")\n",
        "\n",
        "# Contoh penggunaan\n",
        "file_fasta_input = \"121450036_Rika Ajeng Finatih.fasta\"\n",
        "file_genbank_output = \"121450036_Rika Ajeng Finatih.gb\"\n",
        "fasta_ke_genbank(file_fasta_input, file_genbank_output)\n"
      ],
      "metadata": {
        "colab": {
          "base_uri": "https://localhost:8080/"
        },
        "id": "uTnwdIW_E6Vu",
        "outputId": "0c5fbb9e-f57c-4883-c5c5-b03e75a899b6"
      },
      "execution_count": null,
      "outputs": [
        {
          "output_type": "stream",
          "name": "stdout",
          "text": [
            "Berhasil mengonversi 121450036_Rika Ajeng Finatih.fasta menjadi 121450036_Rika Ajeng Finatih.gb\n"
          ]
        }
      ]
    },
    {
      "cell_type": "markdown",
      "source": [
        "Kode ini berhasil mengunduh dan menggabungkan sekuens dari dua format file (FASTA dan GenBank) menjadi satu file dalam format FASTA. Hal ini bermanfaat untuk analisis bioinformatika yang memerlukan data sekuens dari berbagai sumber dalam format yang konsisten. Dengan menggunakan library Biopython, pengolahan file sekuens menjadi lebih mudah dan efisien."
      ],
      "metadata": {
        "id": "fUwYW67QFSd5"
      }
    }
  ]
}